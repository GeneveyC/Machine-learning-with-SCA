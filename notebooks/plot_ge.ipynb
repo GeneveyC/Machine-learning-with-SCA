{
 "cells": [
  {
   "cell_type": "code",
   "execution_count": 6,
   "id": "exceptional-extra",
   "metadata": {},
   "outputs": [],
   "source": [
    "import matplotlib.pyplot as plt"
   ]
  },
  {
   "cell_type": "code",
   "execution_count": 7,
   "id": "million-talent",
   "metadata": {},
   "outputs": [],
   "source": [
    "ge_path = \"/mnt/SCA1/CARDIS/script/graph_gan/numeric/\""
   ]
  },
  {
   "cell_type": "markdown",
   "id": "therapeutic-restriction",
   "metadata": {},
   "source": [
    "# Plotting Guessing Entropies"
   ]
  },
  {
   "cell_type": "code",
   "execution_count": 8,
   "id": "fifth-transportation",
   "metadata": {},
   "outputs": [],
   "source": [
    "archi_list = {\n",
    "    'mlp_best': '#1f77b4',\n",
    "    'cnn_best': '#ff7f0e',\n",
    "    'zaid_desync_0': '#2ca02c',\n",
    "    'noConv1_desync_0': '#d62728',\n",
    "}\n",
    "attack_list = {\n",
    "    'PCA': '#9467bd',\n",
    "    'LDA': '#8c564b',\n",
    "    'CPA': '#e377c2',\n",
    "}"
   ]
  },
  {
   "cell_type": "markdown",
   "id": "appropriate-insert",
   "metadata": {},
   "source": [
    "## Power to EM Translation"
   ]
  },
  {
   "cell_type": "code",
   "execution_count": 9,
   "id": "bronze-asset",
   "metadata": {},
   "outputs": [],
   "source": [
    "devices = ('F0','F1','F2','F4')"
   ]
  },
  {
   "cell_type": "markdown",
   "id": "deluxe-escape",
   "metadata": {},
   "source": [
    "## Plot GEs"
   ]
  },
  {
   "cell_type": "code",
   "execution_count": 10,
   "id": "blank-arena",
   "metadata": {},
   "outputs": [
    {
     "name": "stdout",
     "output_type": "stream",
     "text": [
      "Targetting F0\n"
     ]
    },
    {
     "ename": "NameError",
     "evalue": "name 'result_format' is not defined",
     "output_type": "error",
     "traceback": [
      "\u001b[0;31m---------------------------------------------------------------------------\u001b[0m",
      "\u001b[0;31mNameError\u001b[0m                                 Traceback (most recent call last)",
      "\u001b[0;32m<ipython-input-10-17f9b1e8d6c9>\u001b[0m in \u001b[0;36m<module>\u001b[0;34m\u001b[0m\n\u001b[1;32m     15\u001b[0m     \u001b[0mid\u001b[0m \u001b[0;34m=\u001b[0m \u001b[0;36m0\u001b[0m\u001b[0;34m\u001b[0m\u001b[0;34m\u001b[0m\u001b[0m\n\u001b[1;32m     16\u001b[0m     \u001b[0;32mfor\u001b[0m \u001b[0mattack_set\u001b[0m\u001b[0;34m,\u001b[0m \u001b[0mylim\u001b[0m \u001b[0;32min\u001b[0m \u001b[0mtargets\u001b[0m\u001b[0;34m.\u001b[0m\u001b[0mitems\u001b[0m\u001b[0;34m(\u001b[0m\u001b[0;34m)\u001b[0m\u001b[0;34m:\u001b[0m\u001b[0;34m\u001b[0m\u001b[0;34m\u001b[0m\u001b[0m\n\u001b[0;32m---> 17\u001b[0;31m         \u001b[0mresult_filename\u001b[0m \u001b[0;34m=\u001b[0m \u001b[0mresult_format\u001b[0m\u001b[0;34m.\u001b[0m\u001b[0mformat\u001b[0m\u001b[0;34m(\u001b[0m\u001b[0mdevice\u001b[0m\u001b[0;34m,\u001b[0m\u001b[0mattack_set\u001b[0m\u001b[0;34m,\u001b[0m\u001b[0marchi\u001b[0m\u001b[0;34m)\u001b[0m\u001b[0;34m\u001b[0m\u001b[0;34m\u001b[0m\u001b[0m\n\u001b[0m\u001b[1;32m     18\u001b[0m         \u001b[0maxes\u001b[0m\u001b[0;34m[\u001b[0m\u001b[0mid\u001b[0m\u001b[0;34m]\u001b[0m\u001b[0;34m.\u001b[0m\u001b[0mset_title\u001b[0m\u001b[0;34m(\u001b[0m\u001b[0;34m'Attacking {} traces'\u001b[0m\u001b[0;34m.\u001b[0m\u001b[0mformat\u001b[0m\u001b[0;34m(\u001b[0m\u001b[0mattack_set\u001b[0m\u001b[0;34m)\u001b[0m\u001b[0;34m)\u001b[0m\u001b[0;34m\u001b[0m\u001b[0;34m\u001b[0m\u001b[0m\n\u001b[1;32m     19\u001b[0m         \u001b[0maxes\u001b[0m\u001b[0;34m[\u001b[0m\u001b[0mid\u001b[0m\u001b[0;34m]\u001b[0m\u001b[0;34m.\u001b[0m\u001b[0mset_ylim\u001b[0m\u001b[0;34m(\u001b[0m\u001b[0;36m0\u001b[0m\u001b[0;34m,\u001b[0m\u001b[0mylim\u001b[0m\u001b[0;34m)\u001b[0m\u001b[0;34m\u001b[0m\u001b[0;34m\u001b[0m\u001b[0m\n",
      "\u001b[0;31mNameError\u001b[0m: name 'result_format' is not defined"
     ]
    },
    {
     "data": {
      "image/png": "[encoded data removed]",
      "text/plain": [
       "<Figure size 1080x288 with 3 Axes>"
      ]
     },
     "metadata": {
      "needs_background": "light"
     },
     "output_type": "display_data"
    }
   ],
   "source": [
    "import matplotlib.pyplot as plt\n",
    "archi = 'segan'\n",
    "\n",
    "targets = {\n",
    "    'pw': 40,\n",
    "    'fake_rmsprop':140,\n",
    "    'em': 170\n",
    "}\n",
    "\n",
    "for device in devices:\n",
    "    print('Targetting {}'.format(device))\n",
    "    fig, axes = plt.subplots(1,3)\n",
    "    fig.set_figheight(4)\n",
    "    fig.set_figwidth(15)\n",
    "    id = 0\n",
    "    for attack_set, ylim in targets.items():\n",
    "        result_filename = result_format.format(device,attack_set,archi)\n",
    "        axes[id].set_title('Attacking {} traces'.format(attack_set))\n",
    "        axes[id].set_ylim(0,ylim)\n",
    "        # add ML-based attacks\n",
    "        with open(result_filename,'r') as fin:\n",
    "            content = json.loads(fin.read())\n",
    "            x = content['abscissa']\n",
    "            ranks = content['ranks']\n",
    "            for model in ranks:\n",
    "                mean = np.mean(ranks[model],axis=0)\n",
    "                model_name = model.split('/')[-1]\n",
    "                model_name = model_name[:model_name.find('trained')-1]\n",
    "                if device != 'F3':\n",
    "                    axes[id].plot(x[:50],mean[:50],label=model_name+' (trained pw)',color=archi_list[model_name])\n",
    "                else:\n",
    "                    axes[id].plot(x,mean,label=model_name+' (trained pw)',color=archi_list[model_name])\n",
    "        # add classical attacks if em\n",
    "        if attack_set == 'em':\n",
    "            for attack in attack_list:\n",
    "                result_filename = result_classical_format.format(device,attack_set,attack)\n",
    "                ranks = np.load(result_filename)\n",
    "                mean = np.mean(ranks,axis=0)\n",
    "                # hack LDA\n",
    "                if attack == 'LDA':\n",
    "                    mean[0] = 128\n",
    "                if device != 'F3':\n",
    "                    axes[id].plot(mean[:50],label=attack,color=attack_list[attack])\n",
    "                else:\n",
    "                    axes[id].plot(mean,label=attack,color=attack_list[attack])\n",
    "        id += 1\n",
    "    axes[2].legend(loc='upper center',bbox_to_anchor=(0.5, -0.2))\n",
    "    plt.show()"
   ]
  },
  {
   "cell_type": "code",
   "execution_count": null,
   "id": "assisted-circumstances",
   "metadata": {},
   "outputs": [],
   "source": []
  }
 ],
 "metadata": {
  "kernelspec": {
   "display_name": "Python 3",
   "language": "python",
   "name": "python3"
  },
  "language_info": {
   "codemirror_mode": {
    "name": "ipython",
    "version": 3
   },
   "file_extension": ".py",
   "mimetype": "text/x-python",
   "name": "python",
   "nbconvert_exporter": "python",
   "pygments_lexer": "ipython3",
   "version": "3.6.9"
  }
 },
 "nbformat": 4,
 "nbformat_minor": 5
}
