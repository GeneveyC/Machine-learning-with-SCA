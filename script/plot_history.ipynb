{
 "cells": [
  {
   "cell_type": "code",
   "execution_count": 15,
   "metadata": {},
   "outputs": [],
   "source": [
    "import os\n",
    "import numpy as np\n",
    "import matplotlib.pyplot as plt"
   ]
  },
  {
   "cell_type": "code",
   "execution_count": null,
   "metadata": {},
   "outputs": [],
   "source": [
    "def recreate_full_history(path):\n",
    "    list_filename = []\n",
    "\n",
    "    train_loss_value = []\n",
    "    train_acc_value = []\n",
    "    train_rank_value = []\n",
    "    val_loss_value = []\n",
    "    val_acc_value = []\n",
    "    val_rank_value = []\n",
    "    \n",
    "    print(os.listdir(path))\n",
    "    \n",
    "    for file in os.listdir(path):\n",
    "        if file.endswith(\".npy\"):\n",
    "            \n",
    "            list_filename.append(file)\n",
    "            hist_tmp = np.load(os.path.join(path, file), allow_pickle='TRUE').item()\n",
    "            starting_from = int(file.split(\"_\")[0].split(\"-\")[1])\n",
    "            #print(starting_from)\n",
    "            \n",
    "            train_loss_value += hist_tmp[\"loss\"][starting_from:]\n",
    "            val_loss_value += hist_tmp[\"val_loss\"][starting_from:]\n",
    "            \n",
    "            train_acc_value += hist_tmp[\"accuracy\"][starting_from:]\n",
    "            val_acc_value += hist_tmp[\"val_accuracy\"][starting_from:]\n",
    "            \n",
    "            train_rank_value += hist_tmp[\"mean_rank\"][starting_from:]\n",
    "            val_rank_value += hist_tmp[\"val_mean_rank\"][starting_from:]\n",
    "            \n",
    "            print(len(val_loss_value))\n",
    "            \n",
    "    print(len(val_loss_value))\n",
    "    return train_loss_value, val_loss_value, train_acc_value, val_acc_value, train_rank_value, val_rank_value"
   ]
  },
  {
   "cell_type": "code",
   "execution_count": 16,
   "metadata": {},
   "outputs": [],
   "source": [
    "def recreate_full_history(path):\n",
    "    list_filename = []\n",
    "\n",
    "    train_loss_value = []\n",
    "    train_acc_value = []\n",
    "    train_rank_value = []\n",
    "    val_loss_value = []\n",
    "    val_acc_value = []\n",
    "    val_rank_value = []\n",
    "    \n",
    "    for file in os.listdir(path):\n",
    "        if file.endswith(\".npy\"):\n",
    "            \n",
    "            list_filename.append(file)\n",
    "            hist_tmp = np.load(os.path.join(path, file), allow_pickle='TRUE').item()\n",
    "            #starting_from = int(file.split(\"_\")[0].split(\"-\")[1])\n",
    "            \n",
    "            train_loss_value += hist_tmp[\"loss\"]\n",
    "            val_loss_value += hist_tmp[\"val_loss\"]\n",
    "            \n",
    "            train_acc_value += hist_tmp[\"accuracy\"]\n",
    "            val_acc_value += hist_tmp[\"val_accuracy\"]\n",
    "            \n",
    "            train_rank_value += hist_tmp[\"mean_rank\"]\n",
    "            val_rank_value += hist_tmp[\"val_mean_rank\"]\n",
    "\n",
    "    return train_loss_value, val_loss_value, train_acc_value, val_acc_value, train_rank_value, val_rank_value"
   ]
  },
  {
   "cell_type": "code",
   "execution_count": null,
   "metadata": {},
   "outputs": [],
   "source": [
    "def save_graph(save_folder, network, amount_data, channel_target):\n",
    "    \n",
    "    if not os.path.exists(save_folder):\n",
    "        os.makedirs(save_folder)\n",
    "\n",
    "    # loss\n",
    "    plt.figure()\n",
    "    plt.xlabel('Number of epochs', fontsize=10)\n",
    "    plt.ylabel('Loss', fontsize=10)\n",
    "    plt.yticks(fontsize=10)\n",
    "    plt.grid(True)\n",
    "    \n",
    "    plt.plot(train_loss_value, label='loss training')\n",
    "    plt.plot(val_loss_value, label='loss validation')\n",
    "    plt.legend(prop={\"size\": 10})\n",
    "    plt.savefig(save_folder+network+\"_\"+amount_data+\"_\"+channel_target+\"_loss.png\")\n",
    "    plt.clf()\n",
    "    \n",
    "    # accuracy\n",
    "    plt.figure()\n",
    "    plt.xlabel('Number of epochs', fontsize=10)\n",
    "    plt.ylabel('Accuracy', fontsize=10)\n",
    "    plt.yticks(fontsize=10)\n",
    "    plt.grid(True)\n",
    "    \n",
    "    plt.plot(train_acc_value, label='accuracy training')\n",
    "    plt.plot(val_acc_value, label='accuracy validation')\n",
    "    plt.legend(prop={\"size\": 10})\n",
    "    plt.savefig(save_folder+network+\"_\"+amount_data+\"_\"+channel_target+\"_acc.png\")\n",
    "    plt.clf()\n",
    "    \n",
    "    # rank    \n",
    "    plt.figure()\n",
    "    plt.xlabel('Number of epochs', fontsize=10)\n",
    "    plt.ylabel('Mean rank', fontsize=10)\n",
    "    plt.yticks(fontsize=10)\n",
    "    plt.grid(True)\n",
    "    \n",
    "    plt.plot(train_rank_value, label='rank training')\n",
    "    plt.plot(val_rank_value, label='rank validation')\n",
    "    plt.legend(prop={\"size\": 10})\n",
    "    plt.savefig(save_folder+network+\"_\"+amount_data+\"_\"+channel_target+\"_rank.png\")\n",
    "    plt.clf()"
   ]
  },
  {
   "cell_type": "code",
   "execution_count": null,
   "metadata": {},
   "outputs": [],
   "source": [
    "def save_graph2(save_folder, network, amount_data, channels_target, metric):\n",
    "    \n",
    "    if not os.path.exists(save_folder):\n",
    "        os.makedirs(save_folder)\n",
    "\n",
    "    # loss\n",
    "    plt.figure()\n",
    "    plt.xlabel('Number of epochs', fontsize=10)\n",
    "    \n",
    "    if metric == \"loss\":\n",
    "        plt.ylabel('Loss', fontsize=10)\n",
    "    elif metric == \"accu\":\n",
    "        plt.ylabel('Accuracy', fontsize=10)\n",
    "    elif metric == \"rank\":\n",
    "        plt.ylabel('Mean rank', fontsize=10)\n",
    "    \n",
    "    plt.xticks(fontsize=10)\n",
    "    plt.yticks(fontsize=10)\n",
    "    plt.grid(True)\n",
    "    \n",
    "    for channel in channels_target:\n",
    "        plt.plot(val_loss_value, label=channel)\n",
    "\n",
    "    plt.legend(prop={\"size\": 10})\n",
    "    plt.savefig(save_folder+network+\"_\"+amount_data+\"_\"+channel_target+\"_loss.png\")\n",
    "    plt.clf()"
   ]
  },
  {
   "cell_type": "code",
   "execution_count": null,
   "metadata": {},
   "outputs": [],
   "source": [
    "save_folder = \"./graph_jupiter/\"\n",
    "network = \"noConv1\"\n",
    "amount_data = \"12\"\n",
    "\n",
    "for channel_target in [\"08BF0EM\", \"08BF0PW\",\"08BF1EM\",\"08BF1PW\",\"08BF2EM\",\"08BF2PW\",\"08BF4EM\",\"08BF4PW\"]:\n",
    "    path = \"../models/stm32/\"+network+\"/transfer_learning/\"+amount_data+\"/1kfold_trace_BD_SNR4_1_\"+channel_target+\"/\"\n",
    "\n",
    "    train_loss_value, val_loss_value, train_acc_value, val_acc_value, train_rank_value, val_rank_value = recreate_full_history(path)\n",
    "\n",
    "    if channel_target == \"08BF2EM\":\n",
    "        train_loss_value = train_loss_value[1000:]\n",
    "        val_loss_value = val_loss_value[1000:]\n",
    "        train_acc_value = train_acc_value[1000:] \n",
    "        val_acc_value = val_acc_value[1000:]\n",
    "        train_rank_value = train_rank_value[1000:]\n",
    "        val_rank_value = val_rank_value[1000:]\n",
    "\n",
    "    save_graph(save_folder, network, amount_data, channel_target)"
   ]
  },
  {
   "cell_type": "code",
   "execution_count": null,
   "metadata": {},
   "outputs": [],
   "source": [
    "# 12K + 08BF4PW -> 3000 (but first print with 2000)\n",
    "# 100K + 08BF2EM -> 3000 (but first print with 2000)\n",
    "\n",
    "#     if channel == \"08BF2EM\":\n",
    "#         train_loss_value = train_loss_value[1000:]\n",
    "#         val_loss_value = val_loss_value[1000:]\n",
    "#         train_acc_value = train_acc_value[1000:] \n",
    "#         val_acc_value = val_acc_value[1000:]\n",
    "#         train_rank_value = train_rank_value[1000:]\n",
    "#         val_rank_value = val_rank_value[1000:]\n",
    "    \n",
    "#     if channel == \"08BF4PW\":\n",
    "#         train_loss_value = train_loss_value[0:2000]\n",
    "#         val_loss_value = val_loss_value[0:2000]\n",
    "#         train_acc_value = train_acc_value[0:2000] \n",
    "#         val_acc_value = val_acc_value[0:2000]\n",
    "#         train_rank_value = train_rank_value[0:2000]\n",
    "#         val_rank_value = val_rank_value[0:2000]\n",
    "\n",
    "#     if channel == \"08BF2EM\":\n",
    "#         train_loss_value = train_loss_value[0:2000]\n",
    "#         val_loss_value = val_loss_value[0:2000]\n",
    "#         train_acc_value = train_acc_value[0:2000] \n",
    "#         val_acc_value = val_acc_value[0:2000]\n",
    "#         train_rank_value = train_rank_value[0:2000]\n",
    "#         val_rank_value = val_rank_value[0:2000]\n",
    "    \n",
    "#     if network == \"zaid\":\n",
    "#         train_loss_value = train_loss_value[:2000]\n",
    "#         val_loss_value = val_loss_value[:2000]\n",
    "#         train_acc_value = train_acc_value[:2000] \n",
    "        \n",
    "#         val_acc_value = val_acc_value[:2000]\n",
    "#         train_rank_value = train_rank_value[:2000]\n",
    "#         val_rank_value = val_rank_value[:2000]\n",
    "    "
   ]
  },
  {
   "cell_type": "code",
   "execution_count": 58,
   "metadata": {},
   "outputs": [],
   "source": [
    "#save_folder = \"./graph_jupiter3/pretrained/\"\n",
    "#save_folder = \"./graph_jupiter2/transfer-2/\"\n",
    "\n",
    "#network = \"zaid\"\n",
    "#amount_data = \"12\"\n",
    "#metric = \"loss\"\n",
    "#device = \"stm32\"\n",
    "\n",
    "\n",
    "# Pretrained - STM32\n",
    "#list_channels_str = \"08BF0EM-08BF1EM-08BF2EM-08BF4EM\"\n",
    "#list_channels_str = \"08BF0PW-08BF1PW-08BF2PW-08BF4PW\"\n",
    "#list_channels_str = \"08BF2EM\"\n",
    "\n",
    "# Pretrained - AVR\n",
    "#list_channels_str = \"EM2-EM3\"\n",
    "#list_channels_str = \"EM2\"\n",
    "\n",
    "# Transfer side\n",
    "#list_channels_str = \"08BF0PW+08BF0EM-08BF1PW+08BF1EM-08BF2PW+08BF2EM-08BF4PW+08BF4EM\"\n",
    "#list_channels_str = \"08BF2PW+08BF2EM\"\n",
    "\n",
    "# Transfer device\n",
    "#list_channels_str = \"08BF1PW+08BF0PW-08BF2PW+08BF0PW-08BF4PW+08BF0PW\"\n",
    "#list_channels_str = \"08BF0PW+08BF1PW-08BF2PW+08BF1PW-08BF4PW+08BF1PW\"\n",
    "#list_channels_str = \"08BF0PW+08BF2PW-08BF1PW+08BF2PW-08BF4PW+08BF2PW\"\n",
    "#list_channels_str = \"08BF0PW+08BF4PW-08BF1PW+08BF4PW-08BF2PW+08BF4PW\"\n",
    "\n",
    "def plot_graph(network, amount_data, metric, list_channels_str, save_folder):\n",
    "    list_channels = list_channels_str.split(\"-\")\n",
    "\n",
    "    color_devices = {\n",
    "    'EM2': 'purple',\n",
    "    'EM3': 'brown',\n",
    "    'EM4': 'grey',\n",
    "    'F0EM': 'blue',\n",
    "    'F0PW': 'blue',\n",
    "    'F1EM': 'orange',\n",
    "    'F1PW': 'orange',\n",
    "    'F2EM': 'green',\n",
    "    'F2PW': 'green',\n",
    "    'F4EM': 'red',\n",
    "    'F4PW': 'red'\n",
    "    }\n",
    "    \n",
    "    style_devices = {\n",
    "    'EM2': '-',\n",
    "    'EM3': '-',\n",
    "    'EM4': '-',\n",
    "    'F0EM': '-',\n",
    "    'F0PW': '-.',\n",
    "    'F1EM': '-',\n",
    "    'F1PW': '-.',\n",
    "    'F2EM': '-',\n",
    "    'F2PW': '-.',\n",
    "    'F4EM': '-',\n",
    "    'F4PW': '-.'\n",
    "    }\n",
    "\n",
    "    if not os.path.exists(save_folder):\n",
    "        os.makedirs(save_folder)\n",
    "\n",
    "    plt.figure()\n",
    "    plt.xlabel('Epochs', fontsize=12)\n",
    "    plt.xticks(fontsize=14)\n",
    "    plt.yticks(fontsize=14)\n",
    "    plt.grid(True)\n",
    "\n",
    "    if metric == \"loss\":\n",
    "        plt.ylabel('Loss', fontsize=16)\n",
    "        #plt.title(\"Evolution of loss on validation set\")\n",
    "    elif metric == \"accu\":\n",
    "        plt.ylabel('Accuracy', fontsize=16)\n",
    "        plt.ylim(0, 1)\n",
    "        #plt.title(\"Evolution of accuracy on validation set\")\n",
    "    elif metric == \"rank\":\n",
    "        plt.ylabel('Mean rank', fontsize=16)\n",
    "        #plt.title(\"Evolution of mean rank on validation set\")\n",
    "        plt.ylim(0, 255)\n",
    "\n",
    "    for channel in list_channels:\n",
    "        \n",
    "        if channel == \"EM2\" or channel == \"EM3\" or channel == \"EM4\":\n",
    "            device = \"avr\"\n",
    "            database = \"traces_O0_3\"\n",
    "            channel_legend = channel\n",
    "        elif channel == \"08BF0EM\" or channel == \"08BF1EM\" or channel == \"08BF2EM\" or channel == \"08BF4EM\":\n",
    "            device = \"stm32\"\n",
    "            database = \"trace_BD\"\n",
    "            channel_legend = channel.replace(\"08B\", \"\")\n",
    "        elif channel == \"08BF0PW\" or channel == \"08BF1PW\" or channel == \"08BF2PW\" or channel == \"08BF4PW\":\n",
    "            device = \"stm32\"\n",
    "            database = \"trace_BD\"\n",
    "            channel_legend = channel.replace(\"08B\", \"\")\n",
    "        else:\n",
    "            raise NotImplementedError\n",
    "        \n",
    "        path = \"../models/\"+device+\"/\"+network+\"/transfer_learning/\"+amount_data+\"/1kfold_\"+database+\"_SNR4_1_\"+channel+\"/\"\n",
    "        train_loss_value, val_loss_value, train_acc_value, val_acc_value, train_rank_value, val_rank_value = recreate_full_history(path)\n",
    "\n",
    "        # specific range\n",
    "        if network == \"noconv1\" and device == \"stm32\" and amount_data == \"12\" and channel_legend == \"F2EM\":\n",
    "            val_loss_value = val_loss_value[1000:]\n",
    "        if network == \"ascad\" and device == \"avr\" and amount_data == \"12\" and channel_legend == \"EM2\":\n",
    "            val_loss_value = val_loss_value[0:200]\n",
    "            val_acc_value = val_acc_value[0:200]\n",
    "            val_rank_value = val_rank_value[0:200]\n",
    "        \n",
    "        if network == \"zaid\" and device == \"stm32\" and amount_data == \"12\": # fix 2000 graph\n",
    "            if channel_legend == \"F0EM\" or channel_legend == \"F1EM\" or channel_legend == \"F4EM\":\n",
    "                val_loss_value = val_loss_value[1000:]\n",
    "                val_acc_value = val_acc_value[1000:]\n",
    "                val_rank_value = val_rank_value[1000:]\n",
    "            if channel_legend == \"F2EM\":\n",
    "                val_loss_value = val_loss_value[2001:]\n",
    "                val_acc_value = val_acc_value[2001:]\n",
    "                val_rank_value = val_rank_value[2001:]\n",
    "        if network == \"zaid\" and device == \"avr\" and amount_data == \"12\":\n",
    "            if channel_legend == \"EM4\":\n",
    "                val_loss_value = val_loss_value[2000:]\n",
    "                val_acc_value = val_acc_value[2000:]\n",
    "                val_rank_value = val_rank_value[2000:]\n",
    "    \n",
    "        if metric == \"loss\":\n",
    "            plt.plot(val_loss_value, color=color_devices[channel_legend], linestyle=style_devices[channel_legend], label=channel_legend)\n",
    "        elif metric == \"accu\":\n",
    "            plt.plot(val_acc_value, color=color_devices[channel_legend], linestyle=style_devices[channel_legend], label=channel_legend)\n",
    "        elif metric == \"rank\":\n",
    "            plt.plot(val_rank_value, color=color_devices[channel_legend], linestyle=style_devices[channel_legend], label=channel_legend)\n",
    "        else:\n",
    "            raise NotImplementedError\n",
    "\n",
    "    plt.legend(loc='upper right', prop={\"size\": 10})\n",
    "    plt.savefig(save_folder+network+\"_\"+amount_data+\"_\"+metric+\"_\"+list_channels_str+\".png\")\n",
    "    #plt.show()\n",
    "    plt.clf()"
   ]
  },
  {
   "cell_type": "code",
   "execution_count": 42,
   "metadata": {},
   "outputs": [
    {
     "data": {
      "text/plain": [
       "<Figure size 432x288 with 0 Axes>"
      ]
     },
     "metadata": {},
     "output_type": "display_data"
    },
    {
     "data": {
      "text/plain": [
       "<Figure size 432x288 with 0 Axes>"
      ]
     },
     "metadata": {},
     "output_type": "display_data"
    },
    {
     "data": {
      "text/plain": [
       "<Figure size 432x288 with 0 Axes>"
      ]
     },
     "metadata": {},
     "output_type": "display_data"
    },
    {
     "data": {
      "text/plain": [
       "<Figure size 432x288 with 0 Axes>"
      ]
     },
     "metadata": {},
     "output_type": "display_data"
    },
    {
     "data": {
      "text/plain": [
       "<Figure size 432x288 with 0 Axes>"
      ]
     },
     "metadata": {},
     "output_type": "display_data"
    },
    {
     "data": {
      "text/plain": [
       "<Figure size 432x288 with 0 Axes>"
      ]
     },
     "metadata": {},
     "output_type": "display_data"
    },
    {
     "data": {
      "text/plain": [
       "<Figure size 432x288 with 0 Axes>"
      ]
     },
     "metadata": {},
     "output_type": "display_data"
    },
    {
     "data": {
      "text/plain": [
       "<Figure size 432x288 with 0 Axes>"
      ]
     },
     "metadata": {},
     "output_type": "display_data"
    },
    {
     "data": {
      "text/plain": [
       "<Figure size 432x288 with 0 Axes>"
      ]
     },
     "metadata": {},
     "output_type": "display_data"
    },
    {
     "data": {
      "text/plain": [
       "<Figure size 432x288 with 0 Axes>"
      ]
     },
     "metadata": {},
     "output_type": "display_data"
    },
    {
     "data": {
      "text/plain": [
       "<Figure size 432x288 with 0 Axes>"
      ]
     },
     "metadata": {},
     "output_type": "display_data"
    },
    {
     "data": {
      "text/plain": [
       "<Figure size 432x288 with 0 Axes>"
      ]
     },
     "metadata": {},
     "output_type": "display_data"
    },
    {
     "data": {
      "text/plain": [
       "<Figure size 432x288 with 0 Axes>"
      ]
     },
     "metadata": {},
     "output_type": "display_data"
    },
    {
     "data": {
      "text/plain": [
       "<Figure size 432x288 with 0 Axes>"
      ]
     },
     "metadata": {},
     "output_type": "display_data"
    },
    {
     "data": {
      "text/plain": [
       "<Figure size 432x288 with 0 Axes>"
      ]
     },
     "metadata": {},
     "output_type": "display_data"
    },
    {
     "data": {
      "text/plain": [
       "<Figure size 432x288 with 0 Axes>"
      ]
     },
     "metadata": {},
     "output_type": "display_data"
    },
    {
     "data": {
      "text/plain": [
       "<Figure size 432x288 with 0 Axes>"
      ]
     },
     "metadata": {},
     "output_type": "display_data"
    },
    {
     "data": {
      "text/plain": [
       "<Figure size 432x288 with 0 Axes>"
      ]
     },
     "metadata": {},
     "output_type": "display_data"
    }
   ],
   "source": [
    "# Noconv1\n",
    "\n",
    "## Train with 2k number of epoch using F0PW-F1PW-F2PW (with 12% of the dataset)\n",
    "plot_graph(\"noconv1\", \"12\", \"loss\", \"08BF0PW-08BF1PW-08BF2PW\", \"./graph_jupiter5/pretrained/\")\n",
    "plot_graph(\"noconv1\", \"12\", \"accu\", \"08BF0PW-08BF1PW-08BF2PW\", \"./graph_jupiter5/pretrained/\")\n",
    "plot_graph(\"noconv1\", \"12\", \"rank\", \"08BF0PW-08BF1PW-08BF2PW\", \"./graph_jupiter5/pretrained/\")\n",
    "\n",
    "## Train with 3k number of epoch using EM2-EM4-F0EM-F1EM-F4EM-F4PW (with 12% of the dataset)\n",
    "plot_graph(\"noconv1\", \"12\", \"loss\", \"EM2-EM4-08BF0EM-08BF1EM-08BF4EM-08BF4PW\", \"./graph_jupiter5/pretrained/\")\n",
    "plot_graph(\"noconv1\", \"12\", \"accu\", \"EM2-EM4-08BF0EM-08BF1EM-08BF4EM-08BF4PW\", \"./graph_jupiter5/pretrained/\")\n",
    "plot_graph(\"noconv1\", \"12\", \"rank\", \"EM2-EM4-08BF0EM-08BF1EM-08BF4EM-08BF4PW\", \"./graph_jupiter5/pretrained/\")\n",
    "\n",
    "## Train with 4k number of epoch using F2EM (with 12% of the dataset)\n",
    "plot_graph(\"noconv1\", \"12\", \"loss\", \"EM3-08BF2EM\", \"./graph_jupiter5/pretrained/\")\n",
    "plot_graph(\"noconv1\", \"12\", \"accu\", \"EM3-08BF2EM\", \"./graph_jupiter5/pretrained/\")\n",
    "plot_graph(\"noconv1\", \"12\", \"rank\", \"EM3-08BF2EM\", \"./graph_jupiter5/pretrained/\")\n",
    "\n",
    "## Train with 5k number of epoch using EM3 (with 12% of the dataset)\n",
    "#plot_graph(\"noconv1\", \"12\", \"loss\", \"EM3\", \"./graph_jupiter5/pretrained/\")\n",
    "#plot_graph(\"noconv1\", \"12\", \"accu\", \"EM3\", \"./graph_jupiter5/pretrained/\")\n",
    "#plot_graph(\"noconv1\", \"12\", \"rank\", \"EM3\", \"./graph_jupiter5/pretrained/\")\n",
    "\n",
    "\n",
    "## Train with 2k number of epoch using F0EM-F1EM-F4EM-F0PW-F1PW-F2PW-F4PW (with 100% of the dataset)\n",
    "plot_graph(\"noconv1\", \"100\", \"loss\", \"08BF0EM-08BF1EM-08BF4EM-08BF0PW-08BF1PW-08BF2PW-08BF4PW\", \"./graph_jupiter5/pretrained/\")\n",
    "plot_graph(\"noconv1\", \"100\", \"accu\", \"08BF0EM-08BF1EM-08BF4EM-08BF0PW-08BF1PW-08BF2PW-08BF4PW\", \"./graph_jupiter5/pretrained/\")\n",
    "plot_graph(\"noconv1\", \"100\", \"rank\", \"08BF0EM-08BF1EM-08BF4EM-08BF0PW-08BF1PW-08BF2PW-08BF4PW\", \"./graph_jupiter5/pretrained/\")\n",
    "\n",
    "## Train with 3k number of epoch using EM3-EM4-F2EM (with 100% of the dataset)\n",
    "plot_graph(\"noconv1\", \"100\", \"loss\", \"EM3-EM4-08BF2EM\", \"./graph_jupiter5/pretrained/\")\n",
    "plot_graph(\"noconv1\", \"100\", \"accu\", \"EM3-EM4-08BF2EM\", \"./graph_jupiter5/pretrained/\")\n",
    "plot_graph(\"noconv1\", \"100\", \"rank\", \"EM3-EM4-08BF2EM\", \"./graph_jupiter5/pretrained/\")\n",
    "\n",
    "# Train with 5k number of epoch using EM2 (with 100% of the dataset)\n",
    "plot_graph(\"noconv1\", \"100\", \"loss\", \"EM2\", \"./graph_jupiter5/pretrained/\")\n",
    "plot_graph(\"noconv1\", \"100\", \"accu\", \"EM2\", \"./graph_jupiter5/pretrained/\")\n",
    "plot_graph(\"noconv1\", \"100\", \"rank\", \"EM2\", \"./graph_jupiter5/pretrained/\")"
   ]
  },
  {
   "cell_type": "code",
   "execution_count": 59,
   "metadata": {},
   "outputs": [
    {
     "data": {
      "text/plain": [
       "<Figure size 432x288 with 0 Axes>"
      ]
     },
     "metadata": {},
     "output_type": "display_data"
    },
    {
     "data": {
      "text/plain": [
       "<Figure size 432x288 with 0 Axes>"
      ]
     },
     "metadata": {},
     "output_type": "display_data"
    },
    {
     "data": {
      "text/plain": [
       "<Figure size 432x288 with 0 Axes>"
      ]
     },
     "metadata": {},
     "output_type": "display_data"
    },
    {
     "data": {
      "text/plain": [
       "<Figure size 432x288 with 0 Axes>"
      ]
     },
     "metadata": {},
     "output_type": "display_data"
    },
    {
     "data": {
      "text/plain": [
       "<Figure size 432x288 with 0 Axes>"
      ]
     },
     "metadata": {},
     "output_type": "display_data"
    },
    {
     "data": {
      "text/plain": [
       "<Figure size 432x288 with 0 Axes>"
      ]
     },
     "metadata": {},
     "output_type": "display_data"
    },
    {
     "data": {
      "text/plain": [
       "<Figure size 432x288 with 0 Axes>"
      ]
     },
     "metadata": {},
     "output_type": "display_data"
    },
    {
     "data": {
      "text/plain": [
       "<Figure size 432x288 with 0 Axes>"
      ]
     },
     "metadata": {},
     "output_type": "display_data"
    },
    {
     "data": {
      "text/plain": [
       "<Figure size 432x288 with 0 Axes>"
      ]
     },
     "metadata": {},
     "output_type": "display_data"
    },
    {
     "data": {
      "text/plain": [
       "<Figure size 432x288 with 0 Axes>"
      ]
     },
     "metadata": {},
     "output_type": "display_data"
    },
    {
     "data": {
      "text/plain": [
       "<Figure size 432x288 with 0 Axes>"
      ]
     },
     "metadata": {},
     "output_type": "display_data"
    },
    {
     "data": {
      "text/plain": [
       "<Figure size 432x288 with 0 Axes>"
      ]
     },
     "metadata": {},
     "output_type": "display_data"
    },
    {
     "data": {
      "text/plain": [
       "<Figure size 432x288 with 0 Axes>"
      ]
     },
     "metadata": {},
     "output_type": "display_data"
    },
    {
     "data": {
      "text/plain": [
       "<Figure size 432x288 with 0 Axes>"
      ]
     },
     "metadata": {},
     "output_type": "display_data"
    },
    {
     "data": {
      "text/plain": [
       "<Figure size 432x288 with 0 Axes>"
      ]
     },
     "metadata": {},
     "output_type": "display_data"
    }
   ],
   "source": [
    "# Zaid\n",
    "\n",
    "## Train with 1k number of epoch using F0PW-F1PW-F2PW-F4PW (with 12% of the dataset)\n",
    "plot_graph(\"zaid\", \"12\", \"loss\", \"EM4-08BF2EM-08BF0EM-08BF1EM-08BF4EM-08BF0PW-08BF1PW-08BF2PW-08BF4PW\", \"./graph_jupiter6/pretrained/\")\n",
    "plot_graph(\"zaid\", \"12\", \"accu\", \"EM4-08BF2EM-08BF0EM-08BF1EM-08BF4EM-08BF0PW-08BF1PW-08BF2PW-08BF4PW\", \"./graph_jupiter6/pretrained/\")\n",
    "plot_graph(\"zaid\", \"12\", \"rank\", \"EM4-08BF2EM-08BF0EM-08BF1EM-08BF4EM-08BF0PW-08BF1PW-08BF2PW-08BF4PW\", \"./graph_jupiter6/pretrained/\")\n",
    "\n",
    "\n",
    "## Train with 2k number of epoch using F0EM-F1EM-F2EM-F4EM (with 12% of the dataset)\n",
    "#plot_graph(\"zaid\", \"12\", \"loss\", \"08BF0EM-08BF1EM-08BF4EM\", \"./graph_jupiter6/pretrained/\")\n",
    "#plot_graph(\"zaid\", \"12\", \"accu\", \"08BF0EM-08BF1EM-08BF4EM\", \"./graph_jupiter6/pretrained/\")\n",
    "#plot_graph(\"zaid\", \"12\", \"rank\", \"08BF0EM-08BF1EM-08BF4EM\", \"./graph_jupiter6/pretrained/\")\n",
    "\n",
    "## Train with 3k number of epoch using EM4-F2EM (with 12% of the dataset)\n",
    "# plot_graph(\"zaid\", \"12\", \"loss\", \"EM4-08BF2EM\", \"./graph_jupiter6/pretrained/\")\n",
    "# plot_graph(\"zaid\", \"12\", \"accu\", \"EM4-08BF2EM\", \"./graph_jupiter6/pretrained/\")\n",
    "# plot_graph(\"zaid\", \"12\", \"rank\", \"EM4-08BF2EM\", \"./graph_jupiter6/pretrained/\")\n",
    "\n",
    "## Train with 5k number of epoch using EM2-EM3 (with 12% of the dataset)\n",
    "plot_graph(\"zaid\", \"12\", \"loss\", \"EM2-EM3\", \"./graph_jupiter6/pretrained/\")\n",
    "plot_graph(\"zaid\", \"12\", \"accu\", \"EM2-EM3\", \"./graph_jupiter6/pretrained/\")\n",
    "plot_graph(\"zaid\", \"12\", \"rank\", \"EM2-EM3\", \"./graph_jupiter6/pretrained/\")\n",
    "\n",
    "\n",
    "## Train with 1k number of epoch using F0EM-F1EM-F2EM-F4EM-F0PW-F1PW-F2PW-F4PW (with 100% of the dataset)\n",
    "plot_graph(\"zaid\", \"100\", \"loss\", \"08BF0EM-08BF1EM-08BF2EM-08BF4EM-08BF0PW-08BF1PW-08BF2PW-08BF4PW\", \"./graph_jupiter7/pretrained/\")\n",
    "plot_graph(\"zaid\", \"100\", \"accu\", \"08BF0EM-08BF1EM-08BF2EM-08BF4EM-08BF0PW-08BF1PW-08BF2PW-08BF4PW\", \"./graph_jupiter7/pretrained/\")\n",
    "plot_graph(\"zaid\", \"100\", \"rank\", \"08BF0EM-08BF1EM-08BF2EM-08BF4EM-08BF0PW-08BF1PW-08BF2PW-08BF4PW\", \"./graph_jupiter7/pretrained/\")\n",
    "\n",
    "## Train with 3k number of epoch using EM4 (with 100% of the dataset)\n",
    "plot_graph(\"zaid\", \"100\", \"loss\", \"EM4\", \"./graph_jupiter7/pretrained/\")\n",
    "plot_graph(\"zaid\", \"100\", \"accu\", \"EM4\", \"./graph_jupiter7/pretrained/\")\n",
    "plot_graph(\"zaid\", \"100\", \"rank\", \"EM4\", \"./graph_jupiter7/pretrained/\")\n",
    "\n",
    "## Train with 3k number of epoch using EM2-EM3 (with 100% of the dataset)\n",
    "plot_graph(\"zaid\", \"100\", \"loss\", \"EM2-EM3\", \"./graph_jupiter7/pretrained/\")\n",
    "plot_graph(\"zaid\", \"100\", \"accu\", \"EM2-EM3\", \"./graph_jupiter7/pretrained/\")\n",
    "plot_graph(\"zaid\", \"100\", \"rank\", \"EM2-EM3\", \"./graph_jupiter7/pretrained/\")"
   ]
  },
  {
   "cell_type": "code",
   "execution_count": 40,
   "metadata": {},
   "outputs": [
    {
     "data": {
      "text/plain": [
       "<Figure size 432x288 with 0 Axes>"
      ]
     },
     "metadata": {},
     "output_type": "display_data"
    },
    {
     "data": {
      "text/plain": [
       "<Figure size 432x288 with 0 Axes>"
      ]
     },
     "metadata": {},
     "output_type": "display_data"
    },
    {
     "data": {
      "text/plain": [
       "<Figure size 432x288 with 0 Axes>"
      ]
     },
     "metadata": {},
     "output_type": "display_data"
    },
    {
     "data": {
      "text/plain": [
       "<Figure size 432x288 with 0 Axes>"
      ]
     },
     "metadata": {},
     "output_type": "display_data"
    },
    {
     "data": {
      "text/plain": [
       "<Figure size 432x288 with 0 Axes>"
      ]
     },
     "metadata": {},
     "output_type": "display_data"
    },
    {
     "data": {
      "text/plain": [
       "<Figure size 432x288 with 0 Axes>"
      ]
     },
     "metadata": {},
     "output_type": "display_data"
    }
   ],
   "source": [
    "# ASCAD\n",
    "\n",
    "## Train with 200 number of epoch using F0PW-F1PW-F2PW-F4PW (with 12% of the dataset)\n",
    "plot_graph(\"ascad\", \"12\", \"loss\", \"EM2-EM3-EM4-08BF0EM-08BF1EM-08BF2EM-08BF4EM-08BF0PW-08BF1PW-08BF2PW-08BF4PW\", \"./graph_jupiter4/pretrained/\")\n",
    "plot_graph(\"ascad\", \"12\", \"accu\", \"EM2-EM3-EM4-08BF0EM-08BF1EM-08BF2EM-08BF4EM-08BF0PW-08BF1PW-08BF2PW-08BF4PW\", \"./graph_jupiter4/pretrained/\")\n",
    "plot_graph(\"ascad\", \"12\", \"rank\", \"EM2-EM3-EM4-08BF0EM-08BF1EM-08BF2EM-08BF4EM-08BF0PW-08BF1PW-08BF2PW-08BF4PW\", \"./graph_jupiter4/pretrained/\")\n",
    "\n",
    "# Train with 400 number of epoch using EM2 (with 12% of the dataset)\n",
    "#plot_graph(\"ascad\", \"12\", \"loss\", \"EM2\", \"./graph_jupiter3/pretrained/\")\n",
    "#plot_graph(\"ascad\", \"12\", \"accu\", \"EM2\", \"./graph_jupiter3/pretrained/\")\n",
    "#plot_graph(\"ascad\", \"12\", \"rank\", \"EM2\", \"./graph_jupiter3/pretrained/\")\n",
    "\n",
    "# Train with 200 number of epoch using F0EM-F1EM-F2EM-F4EM-F0PW-F1PW-F2PW-F4PW (with )\n",
    "plot_graph(\"ascad\", \"100\", \"loss\", \"EM2-EM3-EM4-08BF0EM-08BF1EM-08BF2EM-08BF4EM-08BF0PW-08BF1PW-08BF2PW-08BF4PW\", \"./graph_jupiter4/pretrained/\")\n",
    "plot_graph(\"ascad\", \"100\", \"accu\", \"EM2-EM3-EM4-08BF0EM-08BF1EM-08BF2EM-08BF4EM-08BF0PW-08BF1PW-08BF2PW-08BF4PW\", \"./graph_jupiter4/pretrained/\")\n",
    "plot_graph(\"ascad\", \"100\", \"rank\", \"EM2-EM3-EM4-08BF0EM-08BF1EM-08BF2EM-08BF4EM-08BF0PW-08BF1PW-08BF2PW-08BF4PW\", \"./graph_jupiter4/pretrained/\")\n",
    "\n",
    "# Train with 200 number of epoch using EM2-EM3-EM4\n",
    "#plot_graph(\"ascad\", \"100\", \"loss\", \"EM2-EM3-EM4\", \"./graph_jupiter4/pretrained/\")\n",
    "#plot_graph(\"ascad\", \"100\", \"accu\", \"EM2-EM3-EM4\", \"./graph_jupiter4/pretrained/\")\n",
    "#plot_graph(\"ascad\", \"100\", \"rank\", \"EM2-EM3-EM4\", \"./graph_jupiter4/pretrained/\")"
   ]
  }
 ],
 "metadata": {
  "kernelspec": {
   "display_name": "Python 3",
   "language": "python",
   "name": "python3"
  },
  "language_info": {
   "codemirror_mode": {
    "name": "ipython",
    "version": 3
   },
   "file_extension": ".py",
   "mimetype": "text/x-python",
   "name": "python",
   "nbconvert_exporter": "python",
   "pygments_lexer": "ipython3",
   "version": "3.6.9"
  }
 },
 "nbformat": 4,
 "nbformat_minor": 2
}
